{
 "cells": [
  {
   "cell_type": "markdown",
   "metadata": {
    "id": "gtAMARYk0SWq"
   },
   "source": [
    "#**LAB 1: Cleaning data using dropna() and fillna()**\n",
    "\n",
    "The `hmeq_small` dataset contains information on 5960 home equity loans, including 7 features on the characteristics of the loan.\n",
    "\n",
    "- Load the data set `hmeq_small.csv` as a data frame.\n",
    "- Create a new data frame with all the rows with missing data deleted.\n",
    "- Create a second data frame with all missing data filled in with the median value of the column.\n",
    "- Find the means of the columns for both new data frames.\n",
    "\n",
    "Ex: Using only the first hundred rows, found in `hmeq_sample.csv`, the output is:\n",
    "```\n",
    "Median for hmeqDelete are  LOAN        3250.000000\n",
    "MORTDUE    64793.500000\n",
    "VALUE      75525.000000\n",
    "YOJ            9.000000\n",
    "CLAGE        119.999883\n",
    "CLNO          13.500000\n",
    "DEBTINC       31.824143\n",
    "dtype: float64\n",
    "Median for hmeqReplace are  LOAN        3000.000000\n",
    "MORTDUE    47000.000000\n",
    "VALUE      61000.000000\n",
    "YOJ            6.000000\n",
    "CLAGE        122.950000\n",
    "CLNO          14.000000\n",
    "DEBTINC       31.588503\n",
    "dtype: float64\n",
    "```"
   ]
  },
  {
   "cell_type": "code",
   "execution_count": 8,
   "metadata": {
    "id": "b8y9XW1W0RMB"
   },
   "outputs": [
    {
     "name": "stdout",
     "output_type": "stream",
     "text": [
      "Median for hmeqDelete are  LOAN       17000.000000\n",
      "MORTDUE    66893.000000\n",
      "VALUE      94364.500000\n",
      "YOJ            7.000000\n",
      "CLAGE        175.563507\n",
      "CLNO          21.000000\n",
      "DEBTINC       35.202650\n",
      "dtype: float64\n",
      "Median for hmeqReplace are  LOAN       16300.000000\n",
      "MORTDUE    65019.000000\n",
      "VALUE      89235.500000\n",
      "YOJ            7.000000\n",
      "CLAGE        173.466667\n",
      "CLNO          20.000000\n",
      "DEBTINC       34.818262\n",
      "dtype: float64\n"
     ]
    }
   ],
   "source": [
    "import pandas as pd\n",
    "\n",
    "# Read in hmeq_small.csv\n",
    "hmeq = pd.read_csv(\"hmeq_small.csv\")\n",
    "\n",
    "# Create a new data frame with the rows with missing values dropped\n",
    "hmeqDelete = hmeq.dropna()\n",
    "\n",
    "# Create a new data frame with the missing values filled in by the median of the column\n",
    "hmeqReplace = hmeq.fillna(hmeq.median(numeric_only=True))\n",
    "\n",
    "# Print the median of the columns for each new data frame\n",
    "print(\"Median for hmeqDelete are \", hmeqDelete.median(numeric_only=True))\n",
    "\n",
    "print(\"Median for hmeqReplace are \", hmeqReplace.median(numeric_only=True))"
   ]
  },
  {
   "cell_type": "markdown",
   "metadata": {
    "id": "_yebn4pM2riW"
   },
   "source": [
    "#**LAB 2: Structuring data using scale() and MinMaxScaler()**\n",
    "\n",
    "The `hmeq_small` dataset contains information on 5960 home equity loans, including 7 features on the characteristics of the loan.\n",
    "\n",
    "- Load the `hmeq_small.csv` data set as a data frame.\n",
    "- Standardize the data set as a new data frame.\n",
    "- Normalize the data set as a new data frame.\n",
    "- Print the means and variance of both the standardized and normalized data.\n",
    "\n",
    "Ex: Using the first 100 rows, found in `hmeq_sample.csv`, the output is:\n",
    "```\n",
    "The means of hmeqStand are  LOAN      -4.984675e-17\n",
    "MORTDUE    1.914178e-17\n",
    "VALUE     -1.790682e-18\n",
    "YOJ       -7.235161e-17\n",
    "CLAGE     -4.194176e-17\n",
    "CLNO      -6.033821e-17\n",
    "DEBTINC    6.125368e-17\n",
    "dtype: float64\n",
    "The variance of hmeqStand are  LOAN       1.010309\n",
    "MORTDUE    1.011628\n",
    "VALUE      1.010870\n",
    "YOJ        1.011364\n",
    "CLAGE      1.011236\n",
    "CLNO       1.010989\n",
    "DEBTINC    1.035714\n",
    "dtype: float64\n",
    "The means of hmeqNorm are  LOAN       0.671006\n",
    "MORTDUE    0.358735\n",
    "VALUE      0.299044\n",
    "YOJ        0.292135\n",
    "CLAGE      0.448986\n",
    "CLNO       0.346377\n",
    "DEBTINC    0.624927\n",
    "dtype: float64\n",
    "The variance of hmeqNorm are  LOAN       0.072647\n",
    "MORTDUE    0.061099\n",
    "VALUE      0.035189\n",
    "YOJ        0.056618\n",
    "CLAGE      0.051232\n",
    "CLNO       0.035601\n",
    "DEBTINC    0.049705\n",
    "dtype: float64\n",
    "\n",
    "\n",
    "```"
   ]
  },
  {
   "cell_type": "code",
   "execution_count": 32,
   "metadata": {
    "id": "WhNg2ffC2xeC"
   },
   "outputs": [
    {
     "name": "stdout",
     "output_type": "stream",
     "text": [
      "The means of hmeqStand are:\n",
      " LOAN      -1.522868e-15\n",
      "MORTDUE   -1.790189e-16\n",
      "VALUE     -4.884089e-16\n",
      "YOJ       -3.400402e-16\n",
      "CLAGE     -3.951683e-16\n",
      "CLNO      -5.634314e-17\n",
      "DEBTINC   -2.074689e-16\n",
      "dtype: float64\n",
      "\n",
      "The variance of hmeqStand are:\n",
      " LOAN       1.000168\n",
      "MORTDUE    1.000184\n",
      "VALUE      1.000171\n",
      "YOJ        1.000184\n",
      "CLAGE      1.000177\n",
      "CLNO       1.000174\n",
      "DEBTINC    1.000213\n",
      "dtype: float64\n",
      "\n",
      "The means of hmeqNorm are:\n",
      " LOAN       0.197162\n",
      "MORTDUE    0.180378\n",
      "VALUE      0.110597\n",
      "YOJ        0.217616\n",
      "CLAGE      0.153879\n",
      "CLNO       0.299945\n",
      "DEBTINC    0.163991\n",
      "dtype: float64\n",
      "\n",
      "The variance of hmeqNorm are:\n",
      " LOAN       0.015929\n",
      "MORTDUE    0.012510\n",
      "VALUE      0.004580\n",
      "YOJ        0.034126\n",
      "CLAGE      0.005395\n",
      "CLNO       0.020392\n",
      "DEBTINC    0.001799\n",
      "dtype: float64\n"
     ]
    }
   ],
   "source": [
    "import pandas as pd\n",
    "from sklearn import preprocessing\n",
    "\n",
    "hmeq = pd.read_csv(\"hmeq_small.csv\")\n",
    "\n",
    "# Select only numeric columns for scaling\n",
    "numeric_cols = hmeq.select_dtypes(include=['number']).columns\n",
    "hmeq_numeric = hmeq[numeric_cols]\n",
    "\n",
    "# Standardize the data\n",
    "standardized = preprocessing.scale(hmeq_numeric)\n",
    "\n",
    "# Output the standardized data as a data frame\n",
    "hmeqStand = pd.DataFrame(standardized, columns=numeric_cols)\n",
    "\n",
    "# Normalize the data\n",
    "scaler = preprocessing.MinMaxScaler()\n",
    "normalized = scaler.fit_transform(hmeq_numeric)\n",
    "\n",
    "# Output the normalized data as a data frame\n",
    "hmeqNorm = pd.DataFrame(normalized, columns=numeric_cols)\n",
    "\n",
    "# Print the means and variance of hmeqStand and hmeqNorm\n",
    "\n",
    "print(\"The means of hmeqStand are:\\n\", hmeqStand.mean())\n",
    "print(\"\\nThe variance of hmeqStand are:\\n\", hmeqStand.var())\n",
    "print(\"\\nThe means of hmeqNorm are:\\n\", hmeqNorm.mean())\n",
    "print(\"\\nThe variance of hmeqNorm are:\\n\", hmeqNorm.var())"
   ]
  }
 ],
 "metadata": {
  "colab": {
   "authorship_tag": "ABX9TyNsF6O5aHdSt7n3CW2+2Zjx",
   "provenance": []
  },
  "kernelspec": {
   "display_name": "Python 3 (ipykernel)",
   "language": "python",
   "name": "python3"
  },
  "language_info": {
   "codemirror_mode": {
    "name": "ipython",
    "version": 3
   },
   "file_extension": ".py",
   "mimetype": "text/x-python",
   "name": "python",
   "nbconvert_exporter": "python",
   "pygments_lexer": "ipython3",
   "version": "3.9.7"
  }
 },
 "nbformat": 4,
 "nbformat_minor": 1
}
